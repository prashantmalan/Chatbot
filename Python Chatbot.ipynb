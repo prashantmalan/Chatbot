{
 "cells": [
  {
   "cell_type": "code",
   "execution_count": null,
   "metadata": {
    "scrolled": true
   },
   "outputs": [
    {
     "name": "stdout",
     "output_type": "stream",
     "text": [
      "List Trainer: [####################] 100%\n",
      "Bot Response: The current time is 01:25 PM\n",
      "Enter Your name: Prashant\n",
      "Welcome to the Bot Service! Let me know how can I help you?\n",
      "Prashant:movies\n",
      "Bot: The Real Football Factories,Examine the troubling history of football hooliganism and hear from real hooligans about their bitter rivalries and rowdiest brawls.\n"
     ]
    }
   ],
   "source": [
    "from chatterbot import ChatBot\n",
    "from chatterbot.trainers import ListTrainer\n",
    "import spacy\n",
    "import pandas as pd\n",
    "import en_core_web_sm\n",
    "nlp = en_core_web_sm.load()\n",
    "ChatBot(\"hello\")\n",
    "trainer = ListTrainer(\"hello\")\n",
    "path =\"C:\\\\Users\\\\Lenovo\\\\Downloads\\\\netflix_titles\\\\netflix_titles.csv\"\n",
    "df1= pd.read_csv(path)\n",
    "#print(df1.head(1))\n",
    "\n",
    "bot = ChatBot(\n",
    "    'hello',\n",
    "    storage_adapter='chatterbot.storage.SQLStorageAdapter',\n",
    "    database_uri='sqlite:///database.sqlite3'\n",
    ")\n",
    "\n",
    "bot = ChatBot(\n",
    "    'hello',  \n",
    "    logic_adapters=[\n",
    "        'chatterbot.logic.BestMatch',\n",
    "        'chatterbot.logic.TimeLogicAdapter'],\n",
    ")\n",
    "\n",
    "trainer = ListTrainer(bot)\n",
    "\n",
    "#for index,row in df1.iterrows():\n",
    "df1['data']=df1['title']+\",\"+df1['description']\n",
    "\n",
    "trainer.train(df1['data'])\n",
    "    \n",
    "response = bot.get_response('Hi how are you.')\n",
    "\n",
    "print(\"Bot Response:\", response)\n",
    "\n",
    "name=input(\"Enter Your name: \")\n",
    "print(\"Welcome to the Bot Service! Let me know how can I help you?\")\n",
    "while True:\n",
    "    request=input(name+':')\n",
    "    if request=='Bye' or request =='bye':\n",
    "        print('Bot: Bye')\n",
    "        break\n",
    "    else:\n",
    "        response=bot.get_response(request)\n",
    "        print('Bot:',response)\n"
   ]
  },
  {
   "cell_type": "code",
   "execution_count": null,
   "metadata": {},
   "outputs": [],
   "source": [
    "!pip install spacy==2.3.5\n",
    "print (\"hello\")"
   ]
  },
  {
   "cell_type": "code",
   "execution_count": null,
   "metadata": {},
   "outputs": [],
   "source": [
    "python -m spacy download en_core_web_sm"
   ]
  }
 ],
 "metadata": {
  "kernelspec": {
   "display_name": "Python 3",
   "language": "python",
   "name": "python3"
  },
  "language_info": {
   "codemirror_mode": {
    "name": "ipython",
    "version": 3
   },
   "file_extension": ".py",
   "mimetype": "text/x-python",
   "name": "python",
   "nbconvert_exporter": "python",
   "pygments_lexer": "ipython3",
   "version": "3.7.9"
  }
 },
 "nbformat": 4,
 "nbformat_minor": 4
}
